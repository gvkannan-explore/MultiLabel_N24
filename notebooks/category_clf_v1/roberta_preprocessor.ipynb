{
 "cells": [
  {
   "cell_type": "code",
   "execution_count": 1,
   "metadata": {},
   "outputs": [],
   "source": [
    "import transformers\n",
    "from transformers import RobertaTokenizer\n",
    "import re\n",
    "from typing import Dict, List, Union\n",
    "from dataclasses import dataclass"
   ]
  },
  {
   "cell_type": "code",
   "execution_count": 2,
   "metadata": {},
   "outputs": [],
   "source": [
    "@dataclass\n",
    "class ProcessedText:\n",
    "    \"\"\"\n",
    "    Container for processed text data\n",
    "    \"\"\"\n",
    "\n",
    "    cleaned_text: str\n",
    "    sentences: List[str]\n",
    "    num_sentences: int"
   ]
  },
  {
   "cell_type": "code",
   "execution_count": 3,
   "metadata": {},
   "outputs": [],
   "source": [
    "class RoBERTaPreprocessor:\n",
    "    \"\"\"\n",
    "    Housing all the relevant preprocessing steps for RoBERTa within this class - namely:\n",
    "    1. Cleaning all text while preserving important punctuation and structure.\n",
    "    2. Splitting text into stenctence while taking care of abbreviations.\n",
    "    3. Tokenizing and encoding the text.\n",
    "    \"\"\"\n",
    "\n",
    "    def __init__(self, max_length: int = 512) -> None:\n",
    "        self.tokenizer = RobertaTokenizer.from_pretrained(\"roberta-base\")\n",
    "        self.max_length = max_length\n",
    "        self.abbreviations = {\"mr.\", \"mrs.\", \"dr.\", \"st.\", \"ave.\", \"prof.\"}\n",
    "\n",
    "    def clean_text(self, text: str) -> str:\n",
    "        \"\"\"\n",
    "        Cleaning all text while preserving important punctuation and structure.\n",
    "        \"\"\"\n",
    "\n",
    "        ## Replace multiple newlines/spaces with single space\n",
    "        text = re.sub(r\"\\n+\", \" \", text)\n",
    "        text = re.sub(r\"\\s+\", \" \", text)\n",
    "\n",
    "        ## Remove URLs and emails:\n",
    "        text = re.sub(r\"http\\S+|www\\.\\S+\", \"\", text)  # Remove URLs\n",
    "        text = re.sub(r\"\\b[\\w-]+@[\\w-]+[.][\\w-]+\", \"\", text)  # Remove emails\n",
    "\n",
    "        ## Repalce multiple white-spaces with a single space\n",
    "        text = \" \".join(text.split())\n",
    "\n",
    "        ## Normalize dashes to hyphen\n",
    "        text = text.replace(\"—\", \"-\").replace(\"–\", \"-\")\n",
    "\n",
    "        ## Fix spacing around punctuation\n",
    "        text = re.sub(r\"\\s+([.,!?;:])\", r\"\\1\", text)\n",
    "        text = re.sub(r\"\\(\\s+\", \"(\", text)\n",
    "        text = re.sub(r\"\\s+\\)\", \")\", text)\n",
    "\n",
    "        ## Additional cleaning:\n",
    "        text = re.sub(r\"[\\u0080-\\uFFFF]\", \"\", text)  # Remove non-ASCII characters\n",
    "        text = re.sub(r\"\\d+\", \"NUM\", text)  # Replace numbers with \"NUM\"\n",
    "\n",
    "        # Remove leading/trailing whitespace\n",
    "        return text.strip()\n",
    "\n",
    "    def text2sentences(self, text: str) -> List[str]:\n",
    "        \"\"\"\n",
    "        Split the text into sentences while handling common abbreviations\n",
    "        \"\"\"\n",
    "        sentences = []\n",
    "        current = []\n",
    "\n",
    "        words = text.split()  ## Splitting based on whitespaces\n",
    "\n",
    "        ## Iterate through each word until a stop-character is found.\n",
    "        for word in words:\n",
    "            current.append(word)\n",
    "            if word.lower() in self.abbreviations:\n",
    "                continue\n",
    "            if word.endswith((\".\", \"!\", \"?\")):\n",
    "                sentences.append(\" \".join(current))\n",
    "                current = []\n",
    "\n",
    "        ## To add the last uncompleted sentence is any:\n",
    "        if len(current) > 0:\n",
    "            sentences.append(\" \".join(current))\n",
    "\n",
    "        return sentences\n",
    "\n",
    "    def process_text(self, text: str) -> ProcessedText:\n",
    "        \"\"\"\n",
    "        Clean & split into sentences\n",
    "        Returns:\n",
    "            ProcessedText object with cleaned text and sentences\n",
    "        \"\"\"\n",
    "        cleaned_text = self.clean_text(text)\n",
    "        sentences = self.text2sentences(cleaned_text)\n",
    "\n",
    "        return ProcessedText(\n",
    "            cleaned_text=cleaned_text,\n",
    "            sentences=sentences,\n",
    "            num_sentences=len(sentences),\n",
    "        )\n",
    "\n",
    "    def encode_for_model(\n",
    "        self,\n",
    "        processed_text: ProcessedText,\n",
    "        add_special_tokens: bool = True,\n",
    "        truncation: bool = True,\n",
    "        padding: str = \"max_length\",\n",
    "    ) -> Dict[str, List[int]]:\n",
    "        \"\"\"\n",
    "        Encode processed text for RoBERTa.\n",
    "        \"\"\"\n",
    "        try:\n",
    "            return self.tokenizer(\n",
    "                processed_text.cleaned_text,\n",
    "                add_special_tokens=add_special_tokens,\n",
    "                max_length=self.max_length,\n",
    "                padding=padding,\n",
    "                truncation=truncation,\n",
    "                return_attention_mask=True,\n",
    "                return_tensors=\"pt\",\n",
    "            )\n",
    "        except Exception as e:\n",
    "            print(f\"Error encoding text: {str(e)}\")\n",
    "            return None\n",
    "\n",
    "    def batch_encode(self, texts: List[str], **kwargs) -> Dict[str, List[List[int]]]:\n",
    "        \"\"\"\n",
    "        Process and encode a batch of texts.\n",
    "        \"\"\"\n",
    "        processed_texts = [self.process_text(text).cleaned_text for text in texts]\n",
    "\n",
    "        return self.tokenizer(\n",
    "            processed_texts,\n",
    "            max_length=self.max_length,\n",
    "            padding=True,\n",
    "            truncation=True,\n",
    "            return_attention_mask=True,\n",
    "            return_tensors=\"pt\",\n",
    "            **kwargs,\n",
    "        )"
   ]
  },
  {
   "cell_type": "code",
   "execution_count": null,
   "metadata": {},
   "outputs": [],
   "source": [
    "preprocessor = RoBERTaPreprocessor()"
   ]
  },
  {
   "cell_type": "markdown",
   "metadata": {},
   "source": [
    "## Running the code above for test:"
   ]
  },
  {
   "cell_type": "code",
   "execution_count": 4,
   "metadata": {},
   "outputs": [],
   "source": [
    "import os\n",
    "from pathlib import Path, PosixPath\n",
    "from dotenv import load_dotenv\n",
    "import json\n",
    "from tqdm.notebook import tqdm\n",
    "from rich import print"
   ]
  },
  {
   "cell_type": "code",
   "execution_count": 6,
   "metadata": {},
   "outputs": [
    {
     "data": {
      "text/plain": [
       "['.DS_Store', 'imgs', 'news']"
      ]
     },
     "execution_count": 6,
     "metadata": {},
     "output_type": "execute_result"
    }
   ],
   "source": [
    "ENV_Path = Path(\"../envs/n24.env\")\n",
    "load_dotenv(str(ENV_Path))\n",
    "data_dir = Path(os.environ.get(\"DATASET_ROOT\"))\n",
    "os.listdir(data_dir)"
   ]
  },
  {
   "cell_type": "code",
   "execution_count": 7,
   "metadata": {},
   "outputs": [
    {
     "data": {
      "application/vnd.jupyter.widget-view+json": {
       "model_id": "947b0ced50f64e9d9eaf92e24cc9dadf",
       "version_major": 2,
       "version_minor": 0
      },
      "text/plain": [
       "  0%|          | 0/48988 [00:00<?, ?it/s]"
      ]
     },
     "metadata": {},
     "output_type": "display_data"
    }
   ],
   "source": [
    "doc_dir = data_dir / \"news\"\n",
    "with open(doc_dir / \"nytimes_train.json\", \"r\") as fp:\n",
    "    news_list = json.load(fp)\n",
    "\n",
    "key_list = []\n",
    "for news_dict in tqdm(news_list):\n",
    "    for key in news_dict.keys():\n",
    "        if key not in key_list:\n",
    "            key_list.append(key)\n",
    "\n",
    "sample_text = news_dict[\"article\"]"
   ]
  },
  {
   "cell_type": "code",
   "execution_count": 11,
   "metadata": {},
   "outputs": [
    {
     "data": {
      "text/html": [
       "<pre style=\"white-space:pre;overflow-x:auto;line-height:normal;font-family:Menlo,'DejaVu Sans Mono',consolas,'Courier New',monospace\">Cleaned text: The visionary landscapist Joseph Elmer Yoakum <span style=\"font-weight: bold\">(</span>NUM-NUM<span style=\"font-weight: bold\">)</span> has been categorized as an outsider, \n",
       "self-taught or folk artist. Whichever: His place in the expanding canon of NUMth-century American art is assured, \n",
       "both for his achievement and influence. The latest evidence of Yoakum's originality is this enthralling exhibition,\n",
       "among the largest ever devoted to his work. It features nearly NUM of the artist's delirious vistas of undulant \n",
       "hills, mountains and rock formations, variously striated, patterned and creviced, rendered in pale browns and \n",
       "pastels of colored pencil burnished to resemble watercolor. Defined by double outlines, Yoakum's geological \n",
       "elements have a curious autonomy: They heave, lean and push against one another, but they also evoke soft creased \n",
       "flesh, voluptuous but slightly abstracted. Sudden breaks in the terrain offer views of tiny trees, distorting space\n",
       "and scale and intensifying the sexual undercurrent. A magnetic ambiguity prevails. In <span style=\"color: #008000; text-decoration-color: #008000\">\"Mt Horseback on Rockey Knob </span>\n",
       "<span style=\"color: #008000; text-decoration-color: #008000\">Range Near Chillicothe, Ohio\"</span> <span style=\"font-weight: bold\">(</span>NUM<span style=\"font-weight: bold\">)</span>, tan flowing forms divide the scene like irregular columns. They could be \n",
       "landslides, or an alternate universe alive with writhing snakes and worms. Yoakum concocted his fantastical \n",
       "topographies in a storefront on the South Side of Chicago during the last decade of his life, after years spent \n",
       "traveling the world as an itinerant worker. Once discovered, his art exerted an essential influence on Chicago \n",
       "Imagists like Jim Nutt, Roger Brown and Christina Ramberg. Beginning in NUM, he had several exhibitions in Chicago;\n",
       "one at the Whitney Museum in New York opened in late NUM, just weeks before he died on Christmas Day. ROBERTA SMITH\n",
       "</pre>\n"
      ],
      "text/plain": [
       "Cleaned text: The visionary landscapist Joseph Elmer Yoakum \u001b[1m(\u001b[0mNUM-NUM\u001b[1m)\u001b[0m has been categorized as an outsider, \n",
       "self-taught or folk artist. Whichever: His place in the expanding canon of NUMth-century American art is assured, \n",
       "both for his achievement and influence. The latest evidence of Yoakum's originality is this enthralling exhibition,\n",
       "among the largest ever devoted to his work. It features nearly NUM of the artist's delirious vistas of undulant \n",
       "hills, mountains and rock formations, variously striated, patterned and creviced, rendered in pale browns and \n",
       "pastels of colored pencil burnished to resemble watercolor. Defined by double outlines, Yoakum's geological \n",
       "elements have a curious autonomy: They heave, lean and push against one another, but they also evoke soft creased \n",
       "flesh, voluptuous but slightly abstracted. Sudden breaks in the terrain offer views of tiny trees, distorting space\n",
       "and scale and intensifying the sexual undercurrent. A magnetic ambiguity prevails. In \u001b[32m\"Mt Horseback on Rockey Knob \u001b[0m\n",
       "\u001b[32mRange Near Chillicothe, Ohio\"\u001b[0m \u001b[1m(\u001b[0mNUM\u001b[1m)\u001b[0m, tan flowing forms divide the scene like irregular columns. They could be \n",
       "landslides, or an alternate universe alive with writhing snakes and worms. Yoakum concocted his fantastical \n",
       "topographies in a storefront on the South Side of Chicago during the last decade of his life, after years spent \n",
       "traveling the world as an itinerant worker. Once discovered, his art exerted an essential influence on Chicago \n",
       "Imagists like Jim Nutt, Roger Brown and Christina Ramberg. Beginning in NUM, he had several exhibitions in Chicago;\n",
       "one at the Whitney Museum in New York opened in late NUM, just weeks before he died on Christmas Day. ROBERTA SMITH\n"
      ]
     },
     "metadata": {},
     "output_type": "display_data"
    },
    {
     "data": {
      "text/html": [
       "<pre style=\"white-space:pre;overflow-x:auto;line-height:normal;font-family:Menlo,'DejaVu Sans Mono',consolas,'Courier New',monospace\">\n",
       "Sentences:\n",
       "<span style=\"font-weight: bold\">[</span>\n",
       "    <span style=\"color: #008000; text-decoration-color: #008000\">'The visionary landscapist Joseph Elmer Yoakum (NUM-NUM) has been categorized as an outsider, self-taught or </span>\n",
       "<span style=\"color: #008000; text-decoration-color: #008000\">folk artist.'</span>,\n",
       "    <span style=\"color: #008000; text-decoration-color: #008000\">'Whichever: His place in the expanding canon of NUMth-century American art is assured, both for his achievement</span>\n",
       "<span style=\"color: #008000; text-decoration-color: #008000\">and influence.'</span>,\n",
       "    <span style=\"color: #008000; text-decoration-color: #008000\">\"The latest evidence of Yoakum's originality is this enthralling exhibition, among the largest ever devoted to </span>\n",
       "<span style=\"color: #008000; text-decoration-color: #008000\">his work.\"</span>,\n",
       "    <span style=\"color: #008000; text-decoration-color: #008000\">\"It features nearly NUM of the artist's delirious vistas of undulant hills, mountains and rock formations, </span>\n",
       "<span style=\"color: #008000; text-decoration-color: #008000\">variously striated, patterned and creviced, rendered in pale browns and pastels of colored pencil burnished to </span>\n",
       "<span style=\"color: #008000; text-decoration-color: #008000\">resemble watercolor.\"</span>,\n",
       "    <span style=\"color: #008000; text-decoration-color: #008000\">\"Defined by double outlines, Yoakum's geological elements have a curious autonomy: They heave, lean and push </span>\n",
       "<span style=\"color: #008000; text-decoration-color: #008000\">against one another, but they also evoke soft creased flesh, voluptuous but slightly abstracted.\"</span>,\n",
       "    <span style=\"color: #008000; text-decoration-color: #008000\">'Sudden breaks in the terrain offer views of tiny trees, distorting space and scale and intensifying the sexual</span>\n",
       "<span style=\"color: #008000; text-decoration-color: #008000\">undercurrent.'</span>,\n",
       "    <span style=\"color: #008000; text-decoration-color: #008000\">'A magnetic ambiguity prevails.'</span>,\n",
       "    <span style=\"color: #008000; text-decoration-color: #008000\">'In \"Mt Horseback on Rockey Knob Range Near Chillicothe, Ohio\" (NUM), tan flowing forms divide the scene like </span>\n",
       "<span style=\"color: #008000; text-decoration-color: #008000\">irregular columns.'</span>,\n",
       "    <span style=\"color: #008000; text-decoration-color: #008000\">'They could be landslides, or an alternate universe alive with writhing snakes and worms.'</span>,\n",
       "    <span style=\"color: #008000; text-decoration-color: #008000\">'Yoakum concocted his fantastical topographies in a storefront on the South Side of Chicago during the last </span>\n",
       "<span style=\"color: #008000; text-decoration-color: #008000\">decade of his life, after years spent traveling the world as an itinerant worker.'</span>,\n",
       "    <span style=\"color: #008000; text-decoration-color: #008000\">'Once discovered, his art exerted an essential influence on Chicago Imagists like Jim Nutt, Roger Brown and </span>\n",
       "<span style=\"color: #008000; text-decoration-color: #008000\">Christina Ramberg.'</span>,\n",
       "    <span style=\"color: #008000; text-decoration-color: #008000\">'Beginning in NUM, he had several exhibitions in Chicago; one at the Whitney Museum in New York opened in late </span>\n",
       "<span style=\"color: #008000; text-decoration-color: #008000\">NUM, just weeks before he died on Christmas Day.'</span>,\n",
       "    <span style=\"color: #008000; text-decoration-color: #008000\">'ROBERTA SMITH'</span>\n",
       "<span style=\"font-weight: bold\">]</span>\n",
       "</pre>\n"
      ],
      "text/plain": [
       "\n",
       "Sentences:\n",
       "\u001b[1m[\u001b[0m\n",
       "    \u001b[32m'The visionary landscapist Joseph Elmer Yoakum \u001b[0m\u001b[32m(\u001b[0m\u001b[32mNUM-NUM\u001b[0m\u001b[32m)\u001b[0m\u001b[32m has been categorized as an outsider, self-taught or \u001b[0m\n",
       "\u001b[32mfolk artist.'\u001b[0m,\n",
       "    \u001b[32m'Whichever: His place in the expanding canon of NUMth-century American art is assured, both for his achievement\u001b[0m\n",
       "\u001b[32mand influence.'\u001b[0m,\n",
       "    \u001b[32m\"The latest evidence of Yoakum's originality is this enthralling exhibition, among the largest ever devoted to \u001b[0m\n",
       "\u001b[32mhis work.\"\u001b[0m,\n",
       "    \u001b[32m\"It features nearly NUM of the artist's delirious vistas of undulant hills, mountains and rock formations, \u001b[0m\n",
       "\u001b[32mvariously striated, patterned and creviced, rendered in pale browns and pastels of colored pencil burnished to \u001b[0m\n",
       "\u001b[32mresemble watercolor.\"\u001b[0m,\n",
       "    \u001b[32m\"Defined by double outlines, Yoakum's geological elements have a curious autonomy: They heave, lean and push \u001b[0m\n",
       "\u001b[32magainst one another, but they also evoke soft creased flesh, voluptuous but slightly abstracted.\"\u001b[0m,\n",
       "    \u001b[32m'Sudden breaks in the terrain offer views of tiny trees, distorting space and scale and intensifying the sexual\u001b[0m\n",
       "\u001b[32mundercurrent.'\u001b[0m,\n",
       "    \u001b[32m'A magnetic ambiguity prevails.'\u001b[0m,\n",
       "    \u001b[32m'In \"Mt Horseback on Rockey Knob Range Near Chillicothe, Ohio\" \u001b[0m\u001b[32m(\u001b[0m\u001b[32mNUM\u001b[0m\u001b[32m)\u001b[0m\u001b[32m, tan flowing forms divide the scene like \u001b[0m\n",
       "\u001b[32mirregular columns.'\u001b[0m,\n",
       "    \u001b[32m'They could be landslides, or an alternate universe alive with writhing snakes and worms.'\u001b[0m,\n",
       "    \u001b[32m'Yoakum concocted his fantastical topographies in a storefront on the South Side of Chicago during the last \u001b[0m\n",
       "\u001b[32mdecade of his life, after years spent traveling the world as an itinerant worker.'\u001b[0m,\n",
       "    \u001b[32m'Once discovered, his art exerted an essential influence on Chicago Imagists like Jim Nutt, Roger Brown and \u001b[0m\n",
       "\u001b[32mChristina Ramberg.'\u001b[0m,\n",
       "    \u001b[32m'Beginning in NUM, he had several exhibitions in Chicago; one at the Whitney Museum in New York opened in late \u001b[0m\n",
       "\u001b[32mNUM, just weeks before he died on Christmas Day.'\u001b[0m,\n",
       "    \u001b[32m'ROBERTA SMITH'\u001b[0m\n",
       "\u001b[1m]\u001b[0m\n"
      ]
     },
     "metadata": {},
     "output_type": "display_data"
    }
   ],
   "source": [
    "processed = preprocessor.process_text(sample_text)\n",
    "print(\"Cleaned text:\", processed.cleaned_text)\n",
    "print(\"\\nSentences:\", processed.sentences)"
   ]
  },
  {
   "cell_type": "code",
   "execution_count": 12,
   "metadata": {},
   "outputs": [],
   "source": [
    "## Encode fot model using processted text:\n",
    "encoded = preprocessor.encode_for_model(processed)"
   ]
  },
  {
   "cell_type": "code",
   "execution_count": 15,
   "metadata": {},
   "outputs": [
    {
     "data": {
      "text/html": [
       "<pre style=\"white-space:pre;overflow-x:auto;line-height:normal;font-family:Menlo,'DejaVu Sans Mono',consolas,'Courier New',monospace\">\n",
       "Tokens: \n",
       "<span style=\"font-weight: bold\">[</span><span style=\"color: #008000; text-decoration-color: #008000\">'&lt;s&gt;'</span>, <span style=\"color: #008000; text-decoration-color: #008000\">'The'</span>, <span style=\"color: #008000; text-decoration-color: #008000\">'Ġvisionary'</span>, <span style=\"color: #008000; text-decoration-color: #008000\">'Ġlandsc'</span>, <span style=\"color: #008000; text-decoration-color: #008000\">'apist'</span>, <span style=\"color: #008000; text-decoration-color: #008000\">'ĠJoseph'</span>, <span style=\"color: #008000; text-decoration-color: #008000\">'ĠEl'</span>, <span style=\"color: #008000; text-decoration-color: #008000\">'mer'</span>, <span style=\"color: #008000; text-decoration-color: #008000\">'ĠY'</span>, <span style=\"color: #008000; text-decoration-color: #008000\">'oak'</span><span style=\"font-weight: bold\">]</span>\n",
       "<span style=\"color: #808000; text-decoration-color: #808000\">...</span>\n",
       "</pre>\n"
      ],
      "text/plain": [
       "\n",
       "Tokens: \n",
       "\u001b[1m[\u001b[0m\u001b[32m'\u001b[0m\u001b[32m<\u001b[0m\u001b[32ms\u001b[0m\u001b[32m>\u001b[0m\u001b[32m'\u001b[0m, \u001b[32m'The'\u001b[0m, \u001b[32m'Ġvisionary'\u001b[0m, \u001b[32m'Ġlandsc'\u001b[0m, \u001b[32m'apist'\u001b[0m, \u001b[32m'ĠJoseph'\u001b[0m, \u001b[32m'ĠEl'\u001b[0m, \u001b[32m'mer'\u001b[0m, \u001b[32m'ĠY'\u001b[0m, \u001b[32m'oak'\u001b[0m\u001b[1m]\u001b[0m\n",
       "\u001b[33m...\u001b[0m\n"
      ]
     },
     "metadata": {},
     "output_type": "display_data"
    }
   ],
   "source": [
    "tokens = preprocessor.tokenizer.convert_ids_to_tokens(encoded[\"input_ids\"][0])\n",
    "print(\"\\nTokens: \", tokens[:10], \"...\")"
   ]
  }
 ],
 "metadata": {
  "kernelspec": {
   "display_name": ".venv",
   "language": "python",
   "name": "python3"
  },
  "language_info": {
   "codemirror_mode": {
    "name": "ipython",
    "version": 3
   },
   "file_extension": ".py",
   "mimetype": "text/x-python",
   "name": "python",
   "nbconvert_exporter": "python",
   "pygments_lexer": "ipython3",
   "version": "3.12.6"
  }
 },
 "nbformat": 4,
 "nbformat_minor": 2
}

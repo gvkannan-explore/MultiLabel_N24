{
 "cells": [
  {
   "cell_type": "code",
   "execution_count": null,
   "metadata": {},
   "outputs": [],
   "source": [
    "import json\n",
    "import os\n",
    "import re\n",
    "from dataclasses import dataclass\n",
    "from pathlib import Path\n",
    "from typing import Dict, List, Tuple, Union, Any\n",
    "\n",
    "import torch\n",
    "from dotenv import load_dotenv\n",
    "from numpy.typing import NDArray\n",
    "from rich import print\n",
    "from torch.utils.data import DataLoader, Dataset\n",
    "from tqdm.notebook import tqdm\n",
    "from transformers import RobertaModel, RobertaTokenizer\n",
    "import sys\n",
    "import numpy as np"
   ]
  },
  {
   "cell_type": "code",
   "execution_count": null,
   "metadata": {},
   "outputs": [],
   "source": [
    "ENV_Path = Path(\"../envs/n24.env\")\n",
    "load_dotenv(str(ENV_Path))"
   ]
  },
  {
   "cell_type": "code",
   "execution_count": null,
   "metadata": {},
   "outputs": [],
   "source": [
    "data_dir = Path(os.environ.get(\"DATASET_ROOT\"))\n",
    "src_dir = Path(os.environ.get(\"SOURCE_PATH\"))"
   ]
  },
  {
   "cell_type": "code",
   "execution_count": null,
   "metadata": {},
   "outputs": [],
   "source": [
    "sys.path.append(src_dir)"
   ]
  },
  {
   "cell_type": "code",
   "execution_count": null,
   "metadata": {},
   "outputs": [],
   "source": [
    "sys.path.append(\"/Users/vigneshkannan/Documents/Projects/MultiLabel_N24/\")\n",
    "from src.preprocess.roberta_preprocessor import RoBERTaPreprocessor\n",
    "preprocessor = RoBERTaPreprocessor(max_length=512)"
   ]
  },
  {
   "cell_type": "markdown",
   "metadata": {},
   "source": [
    "### Data-Module"
   ]
  },
  {
   "cell_type": "code",
   "execution_count": null,
   "metadata": {},
   "outputs": [],
   "source": [
    "from src.utils.data import load_datajson"
   ]
  },
  {
   "cell_type": "code",
   "execution_count": null,
   "metadata": {},
   "outputs": [],
   "source": [
    "train_texts, train_labels, num_classes = load_datajson(\n",
    "    data_dir=data_dir / \"news\" / \"nytimes_train.json\"\n",
    ")\n",
    "\n",
    "ftune_texts, ftune_labels, num_classes = load_datajson(\n",
    "    data_dir=data_dir / \"news\" / \"nytimes_train.json\"\n",
    ")"
   ]
  },
  {
   "cell_type": "code",
   "execution_count": null,
   "metadata": {},
   "outputs": [],
   "source": [
    "class News24Dataset(Dataset):\n",
    "    def __init__(\n",
    "        self,\n",
    "        texts: Union[NDArray, List],\n",
    "        labels: List,\n",
    "        preprocessor: RoBERTaPreprocessor,\n",
    "    ):\n",
    "        self.texts = texts\n",
    "        self.labels = labels\n",
    "        self.preprocessor = preprocessor\n",
    "\n",
    "    def __len__(self):\n",
    "        return len(self.texts)\n",
    "\n",
    "    def __getitem__(self, idx):\n",
    "        text = str(self.texts[idx])\n",
    "        label = self.labels[idx]\n",
    "\n",
    "        ## Process and encode the indexed text using the preprocessor:\n",
    "        processed_text = self.preprocessor.process_text(text)\n",
    "        encoding = self.preprocessor.encode_for_model(processed_text)\n",
    "        label_tensor = torch.tensor(label, dtype=torch.long)\n",
    "        if encoding is None:\n",
    "            raise Exception(f\"Failed to produce encoding for index: {idx}\")\n",
    "\n",
    "        return {\n",
    "            \"input_ids\": encoding[\"input_ids\"].flatten(),\n",
    "            \"attention_mask\": encoding[\n",
    "                \"attention_mask\"\n",
    "            ].flatten(),  ## From the sample text: 1 for info, 0 for padding.\n",
    "            \"label\": label_tensor,\n",
    "        }"
   ]
  },
  {
   "cell_type": "code",
   "execution_count": null,
   "metadata": {},
   "outputs": [],
   "source": [
    "train_ds = News24Dataset(\n",
    "    texts=train_texts, labels=train_labels, preprocessor=preprocessor,\n",
    ")"
   ]
  },
  {
   "cell_type": "code",
   "execution_count": null,
   "metadata": {},
   "outputs": [],
   "source": [
    "# ## Trial to check if everything works as expected.\n",
    "# for _ in tqdm(train_ds):\n",
    "#     pass"
   ]
  },
  {
   "cell_type": "code",
   "execution_count": null,
   "metadata": {},
   "outputs": [],
   "source": [
    "train_ds[0].keys()"
   ]
  },
  {
   "cell_type": "markdown",
   "metadata": {},
   "source": [
    "### Trainer module to predict News-Category"
   ]
  },
  {
   "cell_type": "code",
   "execution_count": null,
   "metadata": {},
   "outputs": [],
   "source": [
    "from torch import nn\n",
    "class SectionClassifier(nn.Module):\n",
    "    def __init__(self, n_classes: int, roberta_type: str = \"roberta-base\", input_type: str = \"text\") -> None:\n",
    "        super(SectionClassifier, self).__init__()\n",
    "\n",
    "        if input_type.lower() != \"text\":\n",
    "            raise Exception(f\"Unable to support modality: {input_type}. The current setup only supports `text`\")\n",
    "        self.roberta_type = roberta_type\n",
    "        self.n_classes = n_classes\n",
    "        self.model = RobertaModel.from_pretrained(self.roberta_type)\n",
    "        self.dropout = nn.Dropout(p=0.3)\n",
    "        self.fc = nn.Linear(self.model.config.output_hidden_states, self.n_classes) ## Need to see if we need deeper MLP!\n",
    "\n",
    "    def forward(self, input_ids: torch.Tensor, attention_mask: torch.Tensor) -> torch.Tensor:\n",
    "        outputs = self.model(\n",
    "            input_ids=input_ids,\n",
    "            attention_mask=attention_mask,\n",
    "        )\n",
    "        pooled_output = outputs.last_hidden_state[:, 0, :]\n",
    "        pooled_output = self.dropout(pooled_output)\n",
    "        logits = self.fc(pooled_output)\n",
    "        return logits"
   ]
  },
  {
   "cell_type": "markdown",
   "metadata": {},
   "source": [
    "### Training:"
   ]
  },
  {
   "cell_type": "code",
   "execution_count": null,
   "metadata": {},
   "outputs": [],
   "source": [
    "def train_epoch(\n",
    "        model: nn.Module, \n",
    "        dl: DataLoader,\n",
    "        loss_fn: Any,\n",
    "        optimizer: torch.optim,\n",
    "        device: Union[str, torch.device], \n",
    "        n_examples: int) -> Dict:\n",
    "\n",
    "    model.train()\n",
    "    losses = []\n",
    "    correct_preds = 0\n",
    "\n",
    "    for batch in tqdm(dl):\n",
    "        optimizer.zero_grad()\n",
    "        batch = {key: value.to(device) for key, value in batch.items()}\n",
    "        outputs = model(\n",
    "            input_ids= batch[\"input_ids\"],\n",
    "            attention_mask=batch[\"attention_mask\"],\n",
    "        )\n",
    "\n",
    "        _, preds = torch.max(outputs, dim=1)\n",
    "        loss = loss_fn(outputs, batch['label'])\n",
    "\n",
    "        correct_preds += torch.sum(preds == batch['label'])\n",
    "        losses.append(loss.item())\n",
    "\n",
    "        loss.backward()\n",
    "        optimizer.step()\n",
    "    return {\n",
    "        \"acc\": correct_preds.double() / n_examples, \n",
    "        \"avg_loss\": np.mean()\n",
    "        }\n",
    "\n",
    "def eval_epoch(\n",
    "        model: nn.Module, \n",
    "        dl: DataLoader,\n",
    "        loss_fn: Any,\n",
    "        device: Union[str, torch.device], \n",
    "        n_examples: int) -> Dict:\n",
    "\n",
    "    model.eval()\n",
    "    losses = []\n",
    "    correct_preds = 0\n",
    "\n",
    "\n",
    "    for batch in tqdm(dl):\n",
    "        batch = {key: value.to(device) for key, value in batch.items()}\n",
    "        outputs = model(\n",
    "            input_ids= batch[\"input_ids\"],\n",
    "            attention_mask=batch[\"attention_mask\"],\n",
    "        )\n",
    "\n",
    "        _, preds = torch.max(outputs, dim=1)\n",
    "        loss = loss_fn(outputs, batch['label'])\n",
    "\n",
    "        correct_preds += torch.sum(preds == batch['label'])\n",
    "        losses.append(loss.item())\n",
    "\n",
    "    return {\n",
    "        \"acc\": correct_preds.double() / n_examples, \n",
    "        \"avg_loss\": np.mean()\n",
    "        }"
   ]
  }
 ],
 "metadata": {
  "kernelspec": {
   "display_name": ".venv",
   "language": "python",
   "name": "python3"
  },
  "language_info": {
   "codemirror_mode": {
    "name": "ipython",
    "version": 3
   },
   "file_extension": ".py",
   "mimetype": "text/x-python",
   "name": "python",
   "nbconvert_exporter": "python",
   "pygments_lexer": "ipython3",
   "version": "3.12.6"
  }
 },
 "nbformat": 4,
 "nbformat_minor": 2
}

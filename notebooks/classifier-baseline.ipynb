{
 "cells": [
  {
   "cell_type": "markdown",
   "metadata": {},
   "source": [
    "### To train a baseline model using RobertA + Preprocessing function"
   ]
  },
  {
   "cell_type": "code",
   "execution_count": 62,
   "metadata": {},
   "outputs": [],
   "source": [
    "import json\n",
    "import os\n",
    "import re\n",
    "from dataclasses import dataclass\n",
    "from pathlib import Path\n",
    "from typing import Dict, List, Tuple, Union\n",
    "\n",
    "import torch\n",
    "from dotenv import load_dotenv\n",
    "from numpy.typing import NDArray\n",
    "from rich import print\n",
    "from torch.utils.data import DataLoader, Dataset\n",
    "from tqdm.notebook import tqdm\n",
    "from transformers import RobertaModel, RobertaTokenizer"
   ]
  },
  {
   "cell_type": "code",
   "execution_count": 83,
   "metadata": {},
   "outputs": [
    {
     "data": {
      "text/plain": [
       "device(type='mps')"
      ]
     },
     "execution_count": 83,
     "metadata": {},
     "output_type": "execute_result"
    }
   ],
   "source": [
    "if torch.backends.mps.is_available():\n",
    "    device = torch.device(\"mps\")\n",
    "else:\n",
    "    device = torch.device(\"cpu\")\n",
    "\n",
    "device"
   ]
  },
  {
   "cell_type": "code",
   "execution_count": 2,
   "metadata": {},
   "outputs": [],
   "source": [
    "@dataclass\n",
    "class ProcessedText:\n",
    "    \"\"\"\n",
    "    Container for processed text data\n",
    "    \"\"\"\n",
    "\n",
    "    cleaned_text: str\n",
    "    sentences: List[str]\n",
    "    num_sentences: int"
   ]
  },
  {
   "cell_type": "code",
   "execution_count": 6,
   "metadata": {},
   "outputs": [],
   "source": [
    "class RoBERTaPreprocessor:\n",
    "    \"\"\"\n",
    "    Housing all the relevant preprocessing steps for RoBERTa within this class - namely:\n",
    "    1. Cleaning all text while preserving important punctuation and structure.\n",
    "    2. Splitting text into stenctence while taking care of abbreviations.\n",
    "    3. Tokenizing and encoding the text.\n",
    "    \"\"\"\n",
    "\n",
    "    def __init__(self, max_length: int = 512) -> None:\n",
    "        self.tokenizer = RobertaTokenizer.from_pretrained(\"roberta-base\")\n",
    "        self.max_length = max_length\n",
    "        self.abbreviations = {\"mr.\", \"mrs.\", \"dr.\", \"st.\", \"ave.\", \"prof.\"}\n",
    "\n",
    "    def clean_text(self, text: str) -> str:\n",
    "        \"\"\"\n",
    "        Cleaning all text while preserving important punctuation and structure.\n",
    "        \"\"\"\n",
    "\n",
    "        ## Replace multiple newlines/spaces with single space\n",
    "        text = re.sub(r\"\\n+\", \" \", text)\n",
    "        text = re.sub(r\"\\s+\", \" \", text)\n",
    "\n",
    "        ## Remove URLs and emails:\n",
    "        text = re.sub(r\"http\\S+|www\\.\\S+\", \"\", text)  # Remove URLs\n",
    "        text = re.sub(r\"\\b[\\w-]+@[\\w-]+[.][\\w-]+\", \"\", text)  # Remove emails\n",
    "\n",
    "        ## Repalce multiple white-spaces with a single space\n",
    "        text = \" \".join(text.split())\n",
    "\n",
    "        ## Normalize dashes to hyphen\n",
    "        text = text.replace(\"—\", \"-\").replace(\"–\", \"-\")\n",
    "\n",
    "        ## Fix spacing around punctuation\n",
    "        text = re.sub(r\"\\s+([.,!?;:])\", r\"\\1\", text)\n",
    "        text = re.sub(r\"\\(\\s+\", \"(\", text)\n",
    "        text = re.sub(r\"\\s+\\)\", \")\", text)\n",
    "\n",
    "        ## Additional cleaning:\n",
    "        text = re.sub(r\"[\\u0080-\\uFFFF]\", \"\", text)  # Remove non-ASCII characters\n",
    "        text = re.sub(r\"\\d+\", \"NUM\", text)  # Replace numbers with \"NUM\"\n",
    "\n",
    "        # Remove leading/trailing whitespace\n",
    "        return text.strip()\n",
    "\n",
    "    def text2sentences(self, text: str) -> List[str]:\n",
    "        \"\"\"\n",
    "        Split the text into sentences while handling common abbreviations\n",
    "        \"\"\"\n",
    "        sentences = []\n",
    "        current = []\n",
    "\n",
    "        words = text.split()  ## Splitting based on whitespaces\n",
    "\n",
    "        ## Iterate through each word until a stop-character is found.\n",
    "        for word in words:\n",
    "            current.append(word)\n",
    "            if word.lower() in self.abbreviations:\n",
    "                continue\n",
    "            if word.endswith((\".\", \"!\", \"?\")):\n",
    "                sentences.append(\" \".join(current))\n",
    "                current = []\n",
    "\n",
    "        ## To add the last uncompleted sentence is any:\n",
    "        if len(current) > 0:\n",
    "            sentences.append(\" \".join(current))\n",
    "\n",
    "        return sentences\n",
    "\n",
    "    def process_text(self, text: str) -> ProcessedText:\n",
    "        \"\"\"\n",
    "        Clean & split into sentences\n",
    "        Returns:\n",
    "            ProcessedText object with cleaned text and sentences\n",
    "        \"\"\"\n",
    "        cleaned_text = self.clean_text(text)\n",
    "        sentences = self.text2sentences(cleaned_text)\n",
    "\n",
    "        return ProcessedText(\n",
    "            cleaned_text=cleaned_text,\n",
    "            sentences=sentences,\n",
    "            num_sentences=len(sentences),\n",
    "        )\n",
    "\n",
    "    def encode_for_model(\n",
    "        self,\n",
    "        processed_text: ProcessedText,\n",
    "        add_special_tokens: bool = True,\n",
    "        truncation: bool = True,\n",
    "        padding: str = \"max_length\",\n",
    "    ) -> Dict[str, List[int]]:\n",
    "        \"\"\"\n",
    "        Encode processed text for RoBERTa.\n",
    "        \"\"\"\n",
    "        try:\n",
    "            return self.tokenizer(\n",
    "                processed_text.cleaned_text,\n",
    "                add_special_tokens=add_special_tokens,\n",
    "                max_length=self.max_length,\n",
    "                padding=padding,\n",
    "                truncation=truncation,\n",
    "                return_attention_mask=True,\n",
    "                return_tensors=\"pt\",\n",
    "            )\n",
    "        except Exception as e:\n",
    "            print(f\"Error encoding text: {str(e)}\")\n",
    "            return None\n",
    "\n",
    "    def batch_encode(self, texts: List[str], **kwargs) -> Dict[str, List[List[int]]]:\n",
    "        \"\"\"\n",
    "        Process and encode a batch of texts.\n",
    "        \"\"\"\n",
    "        processed_texts = [self.process_text(text).cleaned_text for text in texts]\n",
    "\n",
    "        return self.tokenizer(\n",
    "            processed_texts,\n",
    "            max_length=self.max_length,\n",
    "            padding=True,\n",
    "            truncation=True,\n",
    "            return_attention_mask=True,\n",
    "            return_tensors=\"pt\",\n",
    "            **kwargs,\n",
    "        )\n",
    "\n",
    "\n",
    "preprocessor = RoBERTaPreprocessor()"
   ]
  },
  {
   "cell_type": "code",
   "execution_count": 106,
   "metadata": {},
   "outputs": [],
   "source": [
    "class News24Dataset(Dataset):\n",
    "    def __init__(\n",
    "        self,\n",
    "        texts: Union[NDArray, List],\n",
    "        labels: List,\n",
    "        preprocessor: RoBERTaPreprocessor,\n",
    "    ):\n",
    "        self.texts = texts\n",
    "        self.labels = labels\n",
    "        self.preprocessor = preprocessor\n",
    "\n",
    "    def __len__(self):\n",
    "        return len(self.texts)\n",
    "\n",
    "    def __getitem__(self, idx):\n",
    "        text = str(self.texts[idx])\n",
    "        label = self.labels[idx]\n",
    "\n",
    "        ## Process and encode the indexed text using the preprocessor:\n",
    "        processed_text = self.preprocessor.process_text(text)\n",
    "        encoding = self.preprocessor.encode_for_model(processed_text)\n",
    "        label_tensor = torch.tensor(label, dtype=torch.long)\n",
    "        if encoding is None:\n",
    "            raise Exception(f\"Failed to produce encoding for index: {idx}\")\n",
    "\n",
    "        return {\n",
    "            \"input_ids\": encoding[\"input_ids\"].flatten(),\n",
    "            \"attention_mask\": encoding[\n",
    "                \"attention_mask\"\n",
    "            ].flatten(),  ## From the sample text: 1 for info, 0 for padding.\n",
    "            \"label\": label_tensor,\n",
    "        }"
   ]
  },
  {
   "cell_type": "code",
   "execution_count": 128,
   "metadata": {},
   "outputs": [],
   "source": [
    "from torch import nn\n",
    "\n",
    "\n",
    "class SectionClassifier_Text(nn.Module):\n",
    "    def __init__(self, n_classes: int = 24):\n",
    "        super(SectionClassifier_Text, self).__init__()\n",
    "        self.n_classes = n_classes\n",
    "        self.text_model = RobertaModel.from_pretrained(\"roberta-base\")\n",
    "        self.dropout = nn.Dropout(p=0.3)\n",
    "        self.fc = nn.Linear(768, n_classes)\n",
    "\n",
    "    def forward(\n",
    "        self, input_ids: torch.Tensor, attention_mask: torch.Tensor\n",
    "    ) -> torch.Tensor:\n",
    "        outputs = self.text_model(\n",
    "            input_ids=input_ids,\n",
    "            attention_mask=attention_mask,\n",
    "        )\n",
    "        # last_hidden_state = outputs.last_hidden_state\n",
    "        # Get the [CLS] token representation (first token)\n",
    "        pooled_output = outputs.last_hidden_state[:, 0, :]\n",
    "        pooled_output = self.dropout(pooled_output)\n",
    "        logits = self.fc(pooled_output)\n",
    "        # output = self.dropout(output)\n",
    "        # output = self.fc(output)\n",
    "        return logits"
   ]
  },
  {
   "cell_type": "code",
   "execution_count": 108,
   "metadata": {},
   "outputs": [
    {
     "data": {
      "text/plain": [
       "['.DS_Store', 'imgs', 'news']"
      ]
     },
     "execution_count": 108,
     "metadata": {},
     "output_type": "execute_result"
    }
   ],
   "source": [
    "ENV_Path = Path(\"../envs/n24.env\")\n",
    "load_dotenv(str(ENV_Path))\n",
    "data_dir = Path(os.environ.get(\"DATASET_ROOT\"))\n",
    "os.listdir(data_dir)"
   ]
  },
  {
   "cell_type": "code",
   "execution_count": 109,
   "metadata": {},
   "outputs": [],
   "source": [
    "import pandas as pd\n",
    "\n",
    "\n",
    "def load_datajson(data_dir: Union[str, Path]) -> Tuple[List, List, int]:\n",
    "    \"\"\"\n",
    "    Load and preprocess the N24News dataset from JSON for the PyTorch dataset\n",
    "    \"\"\"\n",
    "    ## Reading JSON\n",
    "    with open(data_dir, \"r\") as fp:\n",
    "        data = json.load(fp)\n",
    "\n",
    "    data_df = pd.DataFrame(data)\n",
    "    label_dict = {cat: idx for idx, cat in enumerate(data_df[\"section\"].unique())}\n",
    "\n",
    "    labelmap_name = \"_\".join([data_dir.stem, \"labelmap.json\"])\n",
    "    with open(data_dir.parent / labelmap_name, \"w\") as f:\n",
    "        json.dump({v: k for k, v in label_dict.items()}, f)\n",
    "\n",
    "    ## Convert the labels into numeric:\n",
    "    labels = [label_dict[section] for section in data_df[\"section\"]]\n",
    "\n",
    "    ## Get the article texts:\n",
    "    texts = data_df[\"article\"].values\n",
    "\n",
    "    del data_df\n",
    "    return texts, labels, len(label_dict)"
   ]
  },
  {
   "cell_type": "code",
   "execution_count": 110,
   "metadata": {},
   "outputs": [],
   "source": [
    "train_texts, train_labels, num_classes = load_datajson(\n",
    "    data_dir=data_dir / \"news\" / \"nytimes_train.json\"\n",
    ")"
   ]
  },
  {
   "cell_type": "code",
   "execution_count": 111,
   "metadata": {},
   "outputs": [],
   "source": [
    "preprocessor = RoBERTaPreprocessor(max_length=512)\n",
    "train_dataset = News24Dataset(\n",
    "    texts=train_texts, labels=train_labels, preprocessor=preprocessor\n",
    ")\n",
    "# train_dl = DataLoader(train_dataset, batch_size=8, shuffle=True)"
   ]
  },
  {
   "cell_type": "code",
   "execution_count": 129,
   "metadata": {},
   "outputs": [
    {
     "name": "stderr",
     "output_type": "stream",
     "text": [
      "Some weights of RobertaModel were not initialized from the model checkpoint at roberta-base and are newly initialized: ['roberta.pooler.dense.bias', 'roberta.pooler.dense.weight']\n",
      "You should probably TRAIN this model on a down-stream task to be able to use it for predictions and inference.\n"
     ]
    },
    {
     "data": {
      "text/plain": [
       "SectionClassifier_Text(\n",
       "  (text_model): RobertaModel(\n",
       "    (embeddings): RobertaEmbeddings(\n",
       "      (word_embeddings): Embedding(50265, 768, padding_idx=1)\n",
       "      (position_embeddings): Embedding(514, 768, padding_idx=1)\n",
       "      (token_type_embeddings): Embedding(1, 768)\n",
       "      (LayerNorm): LayerNorm((768,), eps=1e-05, elementwise_affine=True)\n",
       "      (dropout): Dropout(p=0.1, inplace=False)\n",
       "    )\n",
       "    (encoder): RobertaEncoder(\n",
       "      (layer): ModuleList(\n",
       "        (0-11): 12 x RobertaLayer(\n",
       "          (attention): RobertaAttention(\n",
       "            (self): RobertaSdpaSelfAttention(\n",
       "              (query): Linear(in_features=768, out_features=768, bias=True)\n",
       "              (key): Linear(in_features=768, out_features=768, bias=True)\n",
       "              (value): Linear(in_features=768, out_features=768, bias=True)\n",
       "              (dropout): Dropout(p=0.1, inplace=False)\n",
       "            )\n",
       "            (output): RobertaSelfOutput(\n",
       "              (dense): Linear(in_features=768, out_features=768, bias=True)\n",
       "              (LayerNorm): LayerNorm((768,), eps=1e-05, elementwise_affine=True)\n",
       "              (dropout): Dropout(p=0.1, inplace=False)\n",
       "            )\n",
       "          )\n",
       "          (intermediate): RobertaIntermediate(\n",
       "            (dense): Linear(in_features=768, out_features=3072, bias=True)\n",
       "            (intermediate_act_fn): GELUActivation()\n",
       "          )\n",
       "          (output): RobertaOutput(\n",
       "            (dense): Linear(in_features=3072, out_features=768, bias=True)\n",
       "            (LayerNorm): LayerNorm((768,), eps=1e-05, elementwise_affine=True)\n",
       "            (dropout): Dropout(p=0.1, inplace=False)\n",
       "          )\n",
       "        )\n",
       "      )\n",
       "    )\n",
       "    (pooler): RobertaPooler(\n",
       "      (dense): Linear(in_features=768, out_features=768, bias=True)\n",
       "      (activation): Tanh()\n",
       "    )\n",
       "  )\n",
       "  (dropout): Dropout(p=0.3, inplace=False)\n",
       "  (fc): Linear(in_features=768, out_features=24, bias=True)\n",
       ")"
      ]
     },
     "execution_count": 129,
     "metadata": {},
     "output_type": "execute_result"
    }
   ],
   "source": [
    "text_model = SectionClassifier_Text()\n",
    "text_model = text_model.to(device)\n",
    "text_model.eval()"
   ]
  },
  {
   "cell_type": "code",
   "execution_count": 130,
   "metadata": {},
   "outputs": [],
   "source": [
    "sample_batch = {key: value.to(device) for key, value in train_dataset[6].items()}"
   ]
  },
  {
   "cell_type": "code",
   "execution_count": 131,
   "metadata": {},
   "outputs": [
    {
     "data": {
      "text/plain": [
       "dict_keys(['input_ids', 'attention_mask', 'label'])"
      ]
     },
     "execution_count": 131,
     "metadata": {},
     "output_type": "execute_result"
    }
   ],
   "source": [
    "sample_batch.keys()"
   ]
  },
  {
   "cell_type": "code",
   "execution_count": 132,
   "metadata": {},
   "outputs": [],
   "source": [
    "with torch.no_grad():\n",
    "    output = text_model(\n",
    "        input_ids=sample_batch[\"input_ids\"].unsqueeze(0),\n",
    "        attention_mask=sample_batch[\"attention_mask\"].unsqueeze(0),\n",
    "    )"
   ]
  },
  {
   "cell_type": "code",
   "execution_count": 136,
   "metadata": {},
   "outputs": [],
   "source": [
    "predicted_class = torch.argmax(output, dim=1)"
   ]
  },
  {
   "cell_type": "code",
   "execution_count": 139,
   "metadata": {},
   "outputs": [
    {
     "data": {
      "text/plain": [
       "(tensor([9], device='mps:0'), tensor(5, device='mps:0'))"
      ]
     },
     "execution_count": 139,
     "metadata": {},
     "output_type": "execute_result"
    }
   ],
   "source": [
    "predicted_class, sample_batch[\"label\"]"
   ]
  },
  {
   "cell_type": "code",
   "execution_count": null,
   "metadata": {},
   "outputs": [],
   "source": []
  }
 ],
 "metadata": {
  "kernelspec": {
   "display_name": ".venv",
   "language": "python",
   "name": "python3"
  },
  "language_info": {
   "codemirror_mode": {
    "name": "ipython",
    "version": 3
   },
   "file_extension": ".py",
   "mimetype": "text/x-python",
   "name": "python",
   "nbconvert_exporter": "python",
   "pygments_lexer": "ipython3",
   "version": "3.12.6"
  }
 },
 "nbformat": 4,
 "nbformat_minor": 2
}
